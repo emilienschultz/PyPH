{
 "cells": [
  {
   "cell_type": "markdown",
   "id": "132198f5",
   "metadata": {},
   "source": [
    "# Workflow d'un traitement de données de média social\n",
    "\n",
    "Objectif : récupérer des échanges sur doctissimo pour identifier les références utilisées par les personnes sur un sujet qui revient largement sur le devant de la scène en France, l'usage médical du cannabis, et aussi l'arrivée d'une nouvelle pratique autour du CBD"
   ]
  },
  {
   "cell_type": "markdown",
   "id": "8e04ac7f",
   "metadata": {},
   "source": [
    "## 1. Collecte des données\n",
    "\n",
    "On veut collecter les données. On va donc construire une collecte automatique."
   ]
  },
  {
   "cell_type": "markdown",
   "id": "5a82be45",
   "metadata": {},
   "source": [
    "### Tester sur une page"
   ]
  },
  {
   "cell_type": "markdown",
   "id": "0ca6d512",
   "metadata": {},
   "source": [
    "Définir l'URL"
   ]
  },
  {
   "cell_type": "code",
   "execution_count": 1,
   "id": "bc5d6b79",
   "metadata": {},
   "outputs": [],
   "source": [
    "url = \"https://forum.doctissimo.fr/sante/cannabis/liste_sujet-1.htm\""
   ]
  },
  {
   "cell_type": "markdown",
   "id": "281f0a6c",
   "metadata": {},
   "source": [
    "Récupérer la page"
   ]
  },
  {
   "cell_type": "code",
   "execution_count": 20,
   "id": "06fd512f",
   "metadata": {},
   "outputs": [],
   "source": [
    "from urllib.request import urlopen  # standard python module\n",
    "html = urlopen(url).read()"
   ]
  },
  {
   "cell_type": "markdown",
   "id": "b83c6b3b",
   "metadata": {},
   "source": [
    "On a récupéré une page"
   ]
  },
  {
   "cell_type": "code",
   "execution_count": 21,
   "id": "6276c17a",
   "metadata": {},
   "outputs": [
    {
     "data": {
      "text/plain": [
       "b'\\n\\t<!DOCTYPE html PUBLIC \"-//W3C//DTD XHTML 1.0 Transitional//EN\" \"https://www.w3.org/TR/xhtml1/DTD/xhtml1-transitional.dtd\">\\n\\t<html xml:lang=\"fr\" lang=\"fr\">\\n\\t<head>\\n\\t<meta http-equiv=\"Content-Type\" content=\"text/html; charset=UTF-8\" />\\n\\t<meta name=\"viewport\" content=\"\" />\\n<link rel=\"next\" href=\"https://forum.doctissimo.fr/sante/cannabis/liste_sujet-2.htm\" />\\n<title>Forum Cannabis - Doctissimo</title><link rel=\"stylesheet\" type=\"text/css\" href=\"https://forum.doctissimo.fr/forum_style.php?is_responsive=0&amp;user=0&amp;id_forum=4&amp;color_key=FFFFFF/FFFFFF/333333/C2C3F4/42529d/FFFFFF/FFFFFF/333333/333333/333333/285291/FFFFFF/F8F8F8/F8F8F8/F8F8F8/C0C0C0/C0C0C0/FFFFFF/333333/333333/0000ff/FFEEEE/000000/FFFFFF/FF0000/FFFFFF/0/0/https%3A%40%40images.doctissimo.fr%40shared%40forum/NULL/&amp;v=1638174586\" /><link type=\"text/css\" rel=\"stylesheet\" href=\"https://images.doctissimo.fr/generated/forum/compressed/pictures.css?v=1638174586\" /><script type=\"text/javascript\" src=\"https://images.doctiss'"
      ]
     },
     "execution_count": 21,
     "metadata": {},
     "output_type": "execute_result"
    }
   ],
   "source": [
    "html[0:1000]"
   ]
  },
  {
   "cell_type": "markdown",
   "id": "495c48fe",
   "metadata": {},
   "source": [
    "C'est du HTML, il faut donc rentrer dans le détail pour récupérer les informations. On regarde le code et on voit que le tableau des sujets est repéré par la balise 'sujetCase3'"
   ]
  },
  {
   "cell_type": "code",
   "execution_count": 25,
   "id": "bc2af4e6",
   "metadata": {},
   "outputs": [
    {
     "data": {
      "text/plain": [
       "100"
      ]
     },
     "execution_count": 25,
     "metadata": {},
     "output_type": "execute_result"
    }
   ],
   "source": [
    "import bs4 # manipuler du html\n",
    "\n",
    "html_bs4 = bs4.BeautifulSoup(html) #envelopper la page\n",
    "data = html_bs4.find_all(\"td\",{\"class\":\"sujetCase3\"}) #chercher les balises tb avec une classe spécifique\n",
    "len(data)"
   ]
  },
  {
   "cell_type": "markdown",
   "id": "1d80b354",
   "metadata": {},
   "source": [
    "On regarde ce qu'on a :"
   ]
  },
  {
   "cell_type": "code",
   "execution_count": 31,
   "id": "b31683a5",
   "metadata": {},
   "outputs": [
    {
     "data": {
      "text/plain": [
       "<td class=\"sujetCase3\" scope=\"row\"><span class=\"DOC_cryptlinkaHR0cHM6Ly9mb3J1bS5kb2N0aXNzaW1vLmZyL3NhbnRlL2Nhbm5hYmlzL3Rlc3QtdXJpbmFpcmUtc3VqZXRfMTYyNDM5XzEuaHRt DOC_cryptlink cCatTopic\" id=\"url_topic_162439\" rel=\"nofollow\" title=\"Sujet n°162439\">Test urinaire thc</span></td>"
      ]
     },
     "execution_count": 31,
     "metadata": {},
     "output_type": "execute_result"
    }
   ],
   "source": [
    "data[4]"
   ]
  },
  {
   "cell_type": "code",
   "execution_count": 33,
   "id": "62e7fdce",
   "metadata": {},
   "outputs": [
    {
     "data": {
      "text/plain": [
       "<td class=\"sujetCase3\" scope=\"row\"><a class=\"cCatTopic\" href=\"https://forum.doctissimo.fr/sante/cannabis/reinsertion-socioprofessionnelle-consommateurs-sujet_162368_1.htm\" id=\"url_topic_162368\" title=\"Sujet n°162368\">ECHANGES SUR LA RÉINSERTION SOCIOPROFESSIONNELLE D'EX-CONSOMMATEURS DE CANNABIS</a></td>"
      ]
     },
     "execution_count": 33,
     "metadata": {},
     "output_type": "execute_result"
    }
   ],
   "source": [
    "data[6]"
   ]
  },
  {
   "cell_type": "markdown",
   "id": "1bb86263",
   "metadata": {},
   "source": [
    "On se rend compte qu'il n'y a un lien vers le sujet que s'il a été répondu. Cela nous suffit. Sinon il faudrait une autre méthode. On récupère les liens"
   ]
  },
  {
   "cell_type": "code",
   "execution_count": 37,
   "id": "5e197de1",
   "metadata": {
    "scrolled": true
   },
   "outputs": [
    {
     "name": "stdout",
     "output_type": "stream",
     "text": [
      "80\n"
     ]
    }
   ],
   "source": [
    "# Tableau vide\n",
    "liens = []\n",
    "\n",
    "#Boucle sur les liens\n",
    "for ligne in data:\n",
    "    \n",
    "    # Chercher le lien\n",
    "    lien = ligne.find(\"a\")\n",
    "    \n",
    "    # S'il existe, le garder dans le tableau\n",
    "    if lien:\n",
    "        liens.append(lien[\"href\"])\n",
    "        \n",
    "print(len(liens))"
   ]
  },
  {
   "cell_type": "markdown",
   "id": "176dadf0",
   "metadata": {},
   "source": [
    "Maintenant on veut récupérer toutes ces pages associées au lien pour creuser les sujets de discussion : "
   ]
  },
  {
   "cell_type": "code",
   "execution_count": 86,
   "id": "808152c6",
   "metadata": {},
   "outputs": [
    {
     "name": "stdout",
     "output_type": "stream",
     "text": [
      "https://forum.doctissimo.fr/sante/cannabis/crise-cannabis-sujet_162359_1.htm\n",
      "https://forum.doctissimo.fr/sante/cannabis/reinsertion-socioprofessionnelle-consommateurs-sujet_162368_1.htm\n",
      "https://forum.doctissimo.fr/sante/cannabis/test-positif-thc-sujet_162409_1.htm\n",
      "https://forum.doctissimo.fr/sante/cannabis/guerire-addiction-cannabis-sujet_162437_1.htm\n",
      "https://forum.doctissimo.fr/sante/cannabis/dure-arreter-sujet_162396_1.htm\n",
      "https://forum.doctissimo.fr/sante/cannabis/grosse-addiction-habitude-sujet_162436_1.htm\n",
      "https://forum.doctissimo.fr/sante/cannabis/test-urinaire-sujet_151489_1.htm\n",
      "https://forum.doctissimo.fr/sante/cannabis/urine-consommation-soir-sujet_162235_1.htm\n",
      "https://forum.doctissimo.fr/sante/cannabis/canabis-fois-sujet_162372_1.htm\n",
      "https://forum.doctissimo.fr/sante/cannabis/bouffe-delirante-sujet_162314_1.htm\n"
     ]
    }
   ],
   "source": [
    "pages = {} # tableau vide\n",
    "for lien in liens[0:10]: # on teste sur 10 pour commencer\n",
    "    print(lien)\n",
    "    html = urlopen(lien).read()\n",
    "    pages[lien] = html"
   ]
  },
  {
   "cell_type": "markdown",
   "id": "4eae7737",
   "metadata": {},
   "source": [
    "On a le contenu. Maintenant on veut juste récupérer les liens qui sont mentionnés par les usagers sur chaque page. Après une petite recherche, on se rend compte qu'ils sont dans une balise \"a\" avec une classe \"cLink\". On écrit donc une fonction pour les extraire"
   ]
  },
  {
   "cell_type": "code",
   "execution_count": 98,
   "id": "13f1e4b4",
   "metadata": {},
   "outputs": [],
   "source": [
    "def obtenir_liens(html):\n",
    "    liens = bs4.BeautifulSoup(html).find_all(\"a\",{\"class\":\"cLink\"})\n",
    "    return [l[\"href\"] for l in liens]"
   ]
  },
  {
   "cell_type": "markdown",
   "id": "60a003b4",
   "metadata": {},
   "source": [
    "Testons là"
   ]
  },
  {
   "cell_type": "code",
   "execution_count": 99,
   "id": "0e31f3b1",
   "metadata": {},
   "outputs": [
    {
     "data": {
      "text/plain": [
       "['https://cocorikush.fr/blog/29_kleaner-spray-anti-thc.html',\n",
       " 'https://cocorikush.fr/blog/29_kleaner-spray-anti-thc.html']"
      ]
     },
     "execution_count": 99,
     "metadata": {},
     "output_type": "execute_result"
    }
   ],
   "source": [
    "obtenir_liens(pages[list(pages.keys())[2]])"
   ]
  },
  {
   "cell_type": "markdown",
   "id": "1e2989f7",
   "metadata": {},
   "source": [
    "Appliquons à toutes les pages"
   ]
  },
  {
   "cell_type": "code",
   "execution_count": 100,
   "id": "4ac35c86",
   "metadata": {},
   "outputs": [],
   "source": [
    "liens_pages = {}\n",
    "for p in pages:\n",
    "    liens_pages[p] = obtenir_liens(pages[p])"
   ]
  },
  {
   "cell_type": "markdown",
   "id": "81db3189",
   "metadata": {},
   "source": [
    "Nous avons des données un peu structurées"
   ]
  },
  {
   "cell_type": "code",
   "execution_count": 101,
   "id": "b1479f6f",
   "metadata": {},
   "outputs": [
    {
     "data": {
      "text/plain": [
       "{'https://forum.doctissimo.fr/sante/cannabis/crise-cannabis-sujet_162359_1.htm': ['https://www.psychoactif.org/psychowiki/index.php?title=Cannabis,_effets,_risques,_t%C3%A9moignages',\n",
       "  'https://www.spiritek-asso.com/tous-les-flyers/',\n",
       "  'https://www.inspq.qc.ca/cannabis/cannabis-effets-psychoactifs',\n",
       "  'https://www.spiritek-asso.com/tous-les-flyers/',\n",
       "  'https://www.psychoactif.org/psychowiki/index.php?title=Cannabis,_effets,_risques,_t%C3%A9moignages',\n",
       "  'https://www.spiritek-asso.com/tous-les-flyers/',\n",
       "  'https://www.inspq.qc.ca/cannabis/cannabis-effets-psychoactifs',\n",
       "  'https://www.spiritek-asso.com/tous-les-flyers/',\n",
       "  'https://www.drogues-info-service.fr/',\n",
       "  'https://19216811.cam/',\n",
       "  'https://1921681001.id/',\n",
       "  'https://19216801.onl/',\n",
       "  'https://routerlogin.uno/',\n",
       "  'https://192168ll.link/'],\n",
       " 'https://forum.doctissimo.fr/sante/cannabis/reinsertion-socioprofessionnelle-consommateurs-sujet_162368_1.htm': ['https://idlebreakout.io/'],\n",
       " 'https://forum.doctissimo.fr/sante/cannabis/test-positif-thc-sujet_162409_1.htm': ['https://cocorikush.fr/blog/29_kleaner-spray-anti-thc.html',\n",
       "  'https://cocorikush.fr/blog/29_kleaner-spray-anti-thc.html'],\n",
       " 'https://forum.doctissimo.fr/sante/cannabis/guerire-addiction-cannabis-sujet_162437_1.htm': [],\n",
       " 'https://forum.doctissimo.fr/sante/cannabis/dure-arreter-sujet_162396_1.htm': ['https://www.drogues-info-service.fr/Les-drogues-et-vous/L-arret/Arreter-comment-faire',\n",
       "  'https://www.drogues-info-service.fr/Les-drogues-et-vous/L-arret/Est-il-possible-d-arreter-seul-le-cannabis',\n",
       "  'https://www.drogues-info-service.fr/Les-drogues-et-vous/L-arret/Je-souhaite-me-faire-aider',\n",
       "  'https://www.drogues-info-service.fr/Les-drogues-et-vous/L-arret/Arreter-comment-faire',\n",
       "  'https://www.drogues-info-service.fr/Les-drogues-et-vous/L-arret/Est-il-possible-d-arreter-seul-le-cannabis',\n",
       "  'https://www.drogues-info-service.fr/Les-drogues-et-vous/L-arret/Je-souhaite-me-faire-aider',\n",
       "  'https://www.la-clinique-e-sante.com/blog/addictions/etapes-sevrage-cannabis#cannabis'],\n",
       " 'https://forum.doctissimo.fr/sante/cannabis/grosse-addiction-habitude-sujet_162436_1.htm': [],\n",
       " 'https://forum.doctissimo.fr/sante/cannabis/test-urinaire-sujet_151489_1.htm': [],\n",
       " 'https://forum.doctissimo.fr/sante/cannabis/urine-consommation-soir-sujet_162235_1.htm': ['https://topcbd.ch/blog/',\n",
       "  'https://topcbd.ch/blog/',\n",
       "  'https://topcbd.ch/blog/'],\n",
       " 'https://forum.doctissimo.fr/sante/cannabis/canabis-fois-sujet_162372_1.htm': [],\n",
       " 'https://forum.doctissimo.fr/sante/cannabis/bouffe-delirante-sujet_162314_1.htm': []}"
      ]
     },
     "execution_count": 101,
     "metadata": {},
     "output_type": "execute_result"
    }
   ],
   "source": [
    "liens_pages"
   ]
  },
  {
   "cell_type": "markdown",
   "id": "704c7c05",
   "metadata": {},
   "source": [
    "## 2. Explorer et comprendre les données\n",
    "\n",
    "On a récupéré des données. Maintenant on veut les explorer. Cela signifie passer sur des données sous la forme d'un tableau. On va utiliser une bibliothèque permettant de manipuler des tableaux, Pandas"
   ]
  },
  {
   "cell_type": "code",
   "execution_count": 102,
   "id": "c84b430d",
   "metadata": {},
   "outputs": [],
   "source": [
    "import pandas as pd"
   ]
  },
  {
   "cell_type": "code",
   "execution_count": 108,
   "id": "282010a9",
   "metadata": {},
   "outputs": [
    {
     "data": {
      "text/html": [
       "<div>\n",
       "<style scoped>\n",
       "    .dataframe tbody tr th:only-of-type {\n",
       "        vertical-align: middle;\n",
       "    }\n",
       "\n",
       "    .dataframe tbody tr th {\n",
       "        vertical-align: top;\n",
       "    }\n",
       "\n",
       "    .dataframe thead th {\n",
       "        text-align: right;\n",
       "    }\n",
       "</style>\n",
       "<table border=\"1\" class=\"dataframe\">\n",
       "  <thead>\n",
       "    <tr style=\"text-align: right;\">\n",
       "      <th></th>\n",
       "      <th>page</th>\n",
       "      <th>nb liens</th>\n",
       "    </tr>\n",
       "  </thead>\n",
       "  <tbody>\n",
       "    <tr>\n",
       "      <th>0</th>\n",
       "      <td>https://forum.doctissimo.fr/sante/cannabis/cri...</td>\n",
       "      <td>14</td>\n",
       "    </tr>\n",
       "    <tr>\n",
       "      <th>1</th>\n",
       "      <td>https://forum.doctissimo.fr/sante/cannabis/rei...</td>\n",
       "      <td>1</td>\n",
       "    </tr>\n",
       "    <tr>\n",
       "      <th>2</th>\n",
       "      <td>https://forum.doctissimo.fr/sante/cannabis/tes...</td>\n",
       "      <td>2</td>\n",
       "    </tr>\n",
       "    <tr>\n",
       "      <th>3</th>\n",
       "      <td>https://forum.doctissimo.fr/sante/cannabis/gue...</td>\n",
       "      <td>0</td>\n",
       "    </tr>\n",
       "    <tr>\n",
       "      <th>4</th>\n",
       "      <td>https://forum.doctissimo.fr/sante/cannabis/dur...</td>\n",
       "      <td>7</td>\n",
       "    </tr>\n",
       "    <tr>\n",
       "      <th>5</th>\n",
       "      <td>https://forum.doctissimo.fr/sante/cannabis/gro...</td>\n",
       "      <td>0</td>\n",
       "    </tr>\n",
       "    <tr>\n",
       "      <th>6</th>\n",
       "      <td>https://forum.doctissimo.fr/sante/cannabis/tes...</td>\n",
       "      <td>0</td>\n",
       "    </tr>\n",
       "    <tr>\n",
       "      <th>7</th>\n",
       "      <td>https://forum.doctissimo.fr/sante/cannabis/uri...</td>\n",
       "      <td>3</td>\n",
       "    </tr>\n",
       "    <tr>\n",
       "      <th>8</th>\n",
       "      <td>https://forum.doctissimo.fr/sante/cannabis/can...</td>\n",
       "      <td>0</td>\n",
       "    </tr>\n",
       "    <tr>\n",
       "      <th>9</th>\n",
       "      <td>https://forum.doctissimo.fr/sante/cannabis/bou...</td>\n",
       "      <td>0</td>\n",
       "    </tr>\n",
       "  </tbody>\n",
       "</table>\n",
       "</div>"
      ],
      "text/plain": [
       "                                                page  nb liens\n",
       "0  https://forum.doctissimo.fr/sante/cannabis/cri...        14\n",
       "1  https://forum.doctissimo.fr/sante/cannabis/rei...         1\n",
       "2  https://forum.doctissimo.fr/sante/cannabis/tes...         2\n",
       "3  https://forum.doctissimo.fr/sante/cannabis/gue...         0\n",
       "4  https://forum.doctissimo.fr/sante/cannabis/dur...         7\n",
       "5  https://forum.doctissimo.fr/sante/cannabis/gro...         0\n",
       "6  https://forum.doctissimo.fr/sante/cannabis/tes...         0\n",
       "7  https://forum.doctissimo.fr/sante/cannabis/uri...         3\n",
       "8  https://forum.doctissimo.fr/sante/cannabis/can...         0\n",
       "9  https://forum.doctissimo.fr/sante/cannabis/bou...         0"
      ]
     },
     "execution_count": 108,
     "metadata": {},
     "output_type": "execute_result"
    }
   ],
   "source": [
    "pd.DataFrame([[p,len(liens_pages[p])] for p in liens_pages],columns=[\"page\",\"nb liens\"])"
   ]
  },
  {
   "cell_type": "markdown",
   "id": "67ca2d1f",
   "metadata": {},
   "source": [
    "Est-ce que les liens sont uniques ?"
   ]
  },
  {
   "cell_type": "code",
   "execution_count": 110,
   "id": "2e48bb6a",
   "metadata": {},
   "outputs": [
    {
     "data": {
      "text/plain": [
       "https://www.spiritek-asso.com/tous-les-flyers/                                                                4\n",
       "https://topcbd.ch/blog/                                                                                       3\n",
       "https://www.psychoactif.org/psychowiki/index.php?title=Cannabis,_effets,_risques,_t%C3%A9moignages            2\n",
       "https://www.inspq.qc.ca/cannabis/cannabis-effets-psychoactifs                                                 2\n",
       "https://cocorikush.fr/blog/29_kleaner-spray-anti-thc.html                                                     2\n",
       "https://www.drogues-info-service.fr/Les-drogues-et-vous/L-arret/Arreter-comment-faire                         2\n",
       "https://www.drogues-info-service.fr/Les-drogues-et-vous/L-arret/Est-il-possible-d-arreter-seul-le-cannabis    2\n",
       "https://www.drogues-info-service.fr/Les-drogues-et-vous/L-arret/Je-souhaite-me-faire-aider                    2\n",
       "https://www.drogues-info-service.fr/                                                                          1\n",
       "https://19216811.cam/                                                                                         1\n",
       "https://1921681001.id/                                                                                        1\n",
       "https://19216801.onl/                                                                                         1\n",
       "https://routerlogin.uno/                                                                                      1\n",
       "https://192168ll.link/                                                                                        1\n",
       "https://idlebreakout.io/                                                                                      1\n",
       "https://www.la-clinique-e-sante.com/blog/addictions/etapes-sevrage-cannabis#cannabis                          1\n",
       "dtype: int64"
      ]
     },
     "execution_count": 110,
     "metadata": {},
     "output_type": "execute_result"
    }
   ],
   "source": [
    "# un tableau vide\n",
    "tous_les_liens = []\n",
    "\n",
    "# ajouter chaque lien de chaque page\n",
    "for p in liens_pages:\n",
    "    tous_les_liens+=liens_pages[p]\n",
    "    \n",
    "# créer un tableau et compter\n",
    "pd.Series(tous_les_liens).value_counts()"
   ]
  },
  {
   "cell_type": "markdown",
   "id": "064c8f56",
   "metadata": {},
   "source": [
    "Certains semblent multiples. On veut regarder si cela réunit des pages ensemble. Cela nous amène à réfléchir à une mise en forme de réseau."
   ]
  },
  {
   "cell_type": "markdown",
   "id": "ccb49cb6",
   "metadata": {},
   "source": [
    "## 3. Mise en forme\n",
    "\n",
    "On veut construire un réseau pour faire de l'analyse de réseau. On utilise une bibliothèque dédiée.\n",
    "\n",
    "- chaque lien est un noeud\n",
    "- on relie la page à chacun des liens"
   ]
  },
  {
   "cell_type": "code",
   "execution_count": 120,
   "id": "0836935d",
   "metadata": {},
   "outputs": [],
   "source": [
    "import networkx as nx #bibliothèque dédiée pour les réseaux"
   ]
  },
  {
   "cell_type": "code",
   "execution_count": 119,
   "id": "6ebbd5bd",
   "metadata": {},
   "outputs": [],
   "source": [
    "# Créer un graph vide\n",
    "graph = nx.Graph()\n",
    "\n",
    "# pour chaque page\n",
    "for p in liens_pages:\n",
    "    \n",
    "    # pour chaque lien de la page\n",
    "    for l in liens_pages[p]:\n",
    "        \n",
    "        # ajouter le noeud ou augmenter sa taille\n",
    "        if graph.has_node(l):\n",
    "            graph.nodes[l][\"poids\"]+=1\n",
    "        else:\n",
    "            graph.add_node(l,poids=1)\n",
    "            \n",
    "        # ajouter le lien ou augmenter sa taille\n",
    "        if graph.has_edge(p,l):\n",
    "            graph[p][l][\"poids\"]+=1\n",
    "        else:\n",
    "            graph.add_edge(p,l,poids=1)        \n",
    "        "
   ]
  },
  {
   "cell_type": "markdown",
   "id": "292c0e2c",
   "metadata": {},
   "source": [
    "On a maintenant construit un réseau"
   ]
  },
  {
   "cell_type": "code",
   "execution_count": 116,
   "id": "beeb3acc",
   "metadata": {},
   "outputs": [
    {
     "data": {
      "text/plain": [
       "(21, 16)"
      ]
     },
     "execution_count": 116,
     "metadata": {},
     "output_type": "execute_result"
    }
   ],
   "source": [
    "len(graph.nodes),len(graph.edges)"
   ]
  },
  {
   "cell_type": "markdown",
   "id": "2ecca4ee",
   "metadata": {},
   "source": [
    "## 4. Aller vers la finalisation des données\n",
    "\n",
    "**Attention il faut une bibliothèque spécifique : pip install ipysigma**\n",
    "\n",
    "On a un réseau, on veut le visualiser. On peut sortir les données sous un format utilisable sous Gephi. Sinon il est possible de le regarder directement."
   ]
  },
  {
   "cell_type": "code",
   "execution_count": 117,
   "id": "2d8147ab",
   "metadata": {},
   "outputs": [],
   "source": [
    "from ipysigma import Sigma"
   ]
  },
  {
   "cell_type": "markdown",
   "id": "223f2937",
   "metadata": {},
   "source": [
    "Créer le réseau"
   ]
  },
  {
   "cell_type": "code",
   "execution_count": 118,
   "id": "57f1d2a7",
   "metadata": {},
   "outputs": [
    {
     "data": {
      "application/vnd.jupyter.widget-view+json": {
       "model_id": "c6d23d72364249beaff159c051d7f513",
       "version_major": 2,
       "version_minor": 0
      },
      "text/plain": [
       "Sigma(nx.Graph with 21 nodes and 16 edges)"
      ]
     },
     "metadata": {},
     "output_type": "display_data"
    }
   ],
   "source": [
    "Sigma(graph)"
   ]
  },
  {
   "cell_type": "markdown",
   "id": "5bb81c1d",
   "metadata": {},
   "source": [
    "## Questions pour le script\n",
    "\n",
    "- comment faire pour récupérer plus de pages ?\n",
    "- comment l'appliquer à un autre sujet ?\n",
    "- comment faire pour savoir le nombre de sujets qui parlent de CBD ?"
   ]
  }
 ],
 "metadata": {
  "kernelspec": {
   "display_name": "Python 3 (ipykernel)",
   "language": "python",
   "name": "python3"
  },
  "language_info": {
   "codemirror_mode": {
    "name": "ipython",
    "version": 3
   },
   "file_extension": ".py",
   "mimetype": "text/x-python",
   "name": "python",
   "nbconvert_exporter": "python",
   "pygments_lexer": "ipython3",
   "version": "3.9.7"
  }
 },
 "nbformat": 4,
 "nbformat_minor": 5
}
